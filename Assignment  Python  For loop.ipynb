{
 "cells": [
  {
   "cell_type": "markdown",
   "id": "c2cd9bec-ca2c-4da3-b273-2f2131304b15",
   "metadata": {},
   "source": [
    "Basic Level:"
   ]
  },
  {
   "cell_type": "code",
   "execution_count": 1,
   "id": "508ab069-74c5-4fa7-b540-f9874e322b5e",
   "metadata": {},
   "outputs": [
    {
     "name": "stdout",
     "output_type": "stream",
     "text": [
      "1\n",
      "2\n",
      "3\n",
      "4\n",
      "5\n",
      "6\n",
      "7\n",
      "8\n",
      "9\n",
      "10\n"
     ]
    }
   ],
   "source": [
    "#Q1]\n",
    "for i in range(1,11,1):\n",
    "    print(i)\n",
    "    "
   ]
  },
  {
   "cell_type": "code",
   "execution_count": 2,
   "id": "13c1b973-79ad-4e41-9559-96d7da63bf8a",
   "metadata": {},
   "outputs": [
    {
     "name": "stdout",
     "output_type": "stream",
     "text": [
      "Sum : 161\n"
     ]
    }
   ],
   "source": [
    "#Q2]\n",
    "#creating a list of numbers\n",
    "l = [20,34,54,32,21]\n",
    "sum_num = 0\n",
    "#using for loop to iterate throught the list\n",
    "for i in l:\n",
    "    #calculating sum\n",
    "    sum_num += i\n",
    "print(f\"Sum : {sum_num}\")"
   ]
  },
  {
   "cell_type": "code",
   "execution_count": 14,
   "id": "f7904570-bd68-4665-a290-2a2c16b3b041",
   "metadata": {},
   "outputs": [
    {
     "name": "stdout",
     "output_type": "stream",
     "text": [
      "Rversed String\n",
      "redro esrever ni tnirp ot gnirts"
     ]
    }
   ],
   "source": [
    "#Q3]\n",
    "#creating a string\n",
    "string = \"string to print in reverse order\"\n",
    "print(\"Rversed String\")\n",
    "#using th loop to reverse the string\n",
    "for i in range(len(string)-1,-1,-1):\n",
    "    print(string[i],end=\"\")"
   ]
  },
  {
   "cell_type": "code",
   "execution_count": 17,
   "id": "76ae35b8-8a41-4891-a879-1a3e3a3dfd1d",
   "metadata": {},
   "outputs": [
    {
     "name": "stdin",
     "output_type": "stream",
     "text": [
      "Enter the number 3\n"
     ]
    },
    {
     "name": "stdout",
     "output_type": "stream",
     "text": [
      "3! = 6 \n"
     ]
    }
   ],
   "source": [
    "#Q4]\n",
    "#taking user input\n",
    "n = int(input(\"Enter the number\"))\n",
    "if n>=0:\n",
    "    fact = 1\n",
    "    #calculating factorial with help of for loop\n",
    "    for i in range(1,n+1):\n",
    "        fact *= i\n",
    "    print(f\"{n}! = {fact} \")"
   ]
  },
  {
   "cell_type": "code",
   "execution_count": 18,
   "id": "b4c3e49c-4667-4808-a80c-dda7047f11e9",
   "metadata": {},
   "outputs": [
    {
     "name": "stdin",
     "output_type": "stream",
     "text": [
      "Enter the number 2\n"
     ]
    },
    {
     "name": "stdout",
     "output_type": "stream",
     "text": [
      "Table of 2\n",
      "2*1=2\n",
      "2*2=4\n",
      "2*3=6\n",
      "2*4=8\n",
      "2*5=10\n",
      "2*6=12\n",
      "2*7=14\n",
      "2*8=16\n",
      "2*9=18\n",
      "2*10=20\n"
     ]
    }
   ],
   "source": [
    "#Q5]\n",
    "n = int(input(\"Enter the number\"))\n",
    "print(f\"Table of {n}\")\n",
    "#with help of for loop printing table of 2\n",
    "for i in range(1,11):\n",
    "    print(f\"{n}*{i}={n*i}\")"
   ]
  },
  {
   "cell_type": "code",
   "execution_count": 20,
   "id": "875cb7e9-30bf-467d-a27b-ed18fe20f694",
   "metadata": {},
   "outputs": [
    {
     "name": "stdout",
     "output_type": "stream",
     "text": [
      "List l : [1, 2, 3, 4, 6, 8, 20]\n",
      "odd_count : 2 \n",
      "even_count : 5\n"
     ]
    }
   ],
   "source": [
    "#Q6]\n",
    "#declaring oddcount and evencount to 0\n",
    "oddcount,evencount = 0,0\n",
    "l = [1,2,3,4,6,8,20]\n",
    "for i in l:\n",
    "    if i%2==0:\n",
    "        evencount += 1\n",
    "    else:\n",
    "        oddcount += 1 \n",
    "print(f\"List l : {l}\\nodd_count : {oddcount} \\neven_count : {evencount}\")\n"
   ]
  },
  {
   "cell_type": "code",
   "execution_count": 3,
   "id": "b931c2ed-5dc2-426c-beaf-934bf20a6894",
   "metadata": {},
   "outputs": [
    {
     "name": "stdout",
     "output_type": "stream",
     "text": [
      "Squares from 1-5 :\n",
      "1\n",
      "4\n",
      "9\n",
      "16\n",
      "25\n"
     ]
    }
   ],
   "source": [
    "#Q7]\n",
    "#using for loop to iterate 5 times and print square from 1-5\n",
    "print(\"Squares from 1-5 :\")\n",
    "for i in range(1,6):\n",
    "    print(i**2)\n",
    "    "
   ]
  },
  {
   "cell_type": "code",
   "execution_count": 1,
   "id": "275d77aa-3d1b-4271-a032-1e769a1bbdf0",
   "metadata": {},
   "outputs": [
    {
     "name": "stdout",
     "output_type": "stream",
     "text": [
      "Length :\n",
      "11\n"
     ]
    }
   ],
   "source": [
    "#Q8]\n",
    "#creating a string \n",
    "string = \"Hello World\"\n",
    "length = 0\n",
    "#iterating the string and using length as counter to count the length\n",
    "for char in string:\n",
    "    length += 1\n",
    "else:\n",
    "    print(f\"Length :\\n{length}\")"
   ]
  },
  {
   "cell_type": "code",
   "execution_count": 2,
   "id": "25cbf988-461f-4860-904b-a823a8190dbd",
   "metadata": {},
   "outputs": [
    {
     "name": "stdout",
     "output_type": "stream",
     "text": [
      "Average :\n",
      "4.5\n"
     ]
    }
   ],
   "source": [
    "#Q9]\n",
    "#creating a list of numbers\n",
    "list_num = [i for i in range(10)]\n",
    "sum_num = 0\n",
    "#calculating sum of numbers in list\n",
    "for num in list_num:\n",
    "    sum_num += num\n",
    "#calculating average of numbers\n",
    "print(f\"Average :\\n{sum_num/len(list_num)}\")"
   ]
  },
  {
   "cell_type": "code",
   "execution_count": 4,
   "id": "a6e2997f-67b3-4e83-b717-f213104f4e19",
   "metadata": {},
   "outputs": [
    {
     "name": "stdin",
     "output_type": "stream",
     "text": [
      "Enter the nth number 8\n"
     ]
    },
    {
     "name": "stdout",
     "output_type": "stream",
     "text": [
      "Fibonacci Serie of 8 :\n",
      "0 1 1 2 3 5 8 13 "
     ]
    }
   ],
   "source": [
    "#Q10]\n",
    "n = int(input(\"Enter the nth number\"))\n",
    "if n>0:\n",
    "    a,b = 0,1\n",
    "    print(f\"Fibonacci Serie of {n} :\")\n",
    "    #calculating n fibonacci series using for loop\n",
    "    for i in range(n):\n",
    "        print(a, end=\" \")\n",
    "        a,b = b,a+b\n",
    "else:\n",
    "    print(\"Enter valid number\")"
   ]
  },
  {
   "cell_type": "markdown",
   "id": "653f9320-d50f-4d98-9a76-05bf2b06f9b0",
   "metadata": {},
   "source": [
    "Intermediate Level:"
   ]
  },
  {
   "cell_type": "code",
   "execution_count": 2,
   "id": "8c4efd01-781b-4e56-a860-6b9e9efd9ada",
   "metadata": {},
   "outputs": [],
   "source": [
    "#Q11]\n",
    "#creating a list of duplicates\n",
    "list_duplicates = [1,2,3,4,5,6]\n",
    "boolean = True\n",
    "for element in range(len(list_duplicates)):\n",
    "    for check in range(element,len(list_duplicates)):\n",
    "        if element==check:\n",
    "            continue\n",
    "        elif list_duplicates[element]==list_duplicates[check]:\n",
    "            print(\"Given list contains duplicate element\")\n",
    "            boolean = True\n",
    "            break\n",
    "    if boolean == True:\n",
    "        break\n",
    "else:\n",
    "    print(\"Given list doesn't contain duplicate element\")\n",
    "            "
   ]
  },
  {
   "cell_type": "code",
   "execution_count": 7,
   "id": "e9c20364-c821-4bbd-a93b-9b245019c036",
   "metadata": {},
   "outputs": [
    {
     "name": "stdin",
     "output_type": "stream",
     "text": [
      "Enter the range of prime numbers you want 5\n"
     ]
    },
    {
     "name": "stdout",
     "output_type": "stream",
     "text": [
      "Prime Numbers :\n",
      "2 3 5 7 11 "
     ]
    }
   ],
   "source": [
    "#Q12]\n",
    "range_prime = int(input(\"Enter the range of prime numbers you want\"))\n",
    "list_prime = []\n",
    "i = 1\n",
    "print(\"Prime Numbers :\")\n",
    "#iterating while for the given range to print prime numbers\n",
    "while len(list_prime)<range_prime:\n",
    "    c = 0\n",
    "    #iterating for loop to find prime numbers\n",
    "    for j in range(1,i+1):\n",
    "        if i%j==0:\n",
    "            c+=1\n",
    "    if c==2:\n",
    "        list_prime.append(j)\n",
    "    i+=1\n",
    "for i in list_prime:\n",
    "    print(i,end=\" \")"
   ]
  },
  {
   "cell_type": "code",
   "execution_count": 11,
   "id": "911a0bb8-7a86-4498-8ab8-86c326880e68",
   "metadata": {},
   "outputs": [
    {
     "name": "stdout",
     "output_type": "stream",
     "text": [
      "Vowels : 11\n"
     ]
    }
   ],
   "source": [
    "#Q13]\n",
    "#creating a string and converting it to lower case to effectively count all the vowels in the string\n",
    "string = 'to count number of vowels in a string'.lower()\n",
    "#this is created to check the vowels\n",
    "vowels = 'a e i o u'.split()\n",
    "vowel_count = 0\n",
    "#iterating characters in for loop and using vowels to check for the vowels & incrementing the counter vowel_count\n",
    "for char in string:\n",
    "    if char in vowels:\n",
    "        vowel_count += 1\n",
    "print(f\"Vowels : {vowel_count}\")\n"
   ]
  },
  {
   "cell_type": "code",
   "execution_count": 14,
   "id": "d112c4db-cc5f-4836-addc-c876f0a0b241",
   "metadata": {},
   "outputs": [
    {
     "name": "stdout",
     "output_type": "stream",
     "text": [
      "Maximum : 90\n"
     ]
    }
   ],
   "source": [
    "#Q14]\n",
    "#creating a 2D list\n",
    "list_2D = [1,9,[8,3],[90]]\n",
    "maximum = list_2D[0]\n",
    "#iterating in 1D list and comparing the maximum(i.e. l[0] with other elements)\n",
    "for element_1D in list_2D:\n",
    "    if type(element_1D)!=list:\n",
    "        if maximum < element_1D:\n",
    "            maximum = element_1D\n",
    "    #when the element present in 1D list is a list then iterating 2D list to compare the elements to find the maximum\n",
    "    elif type(element_1D)==list:\n",
    "        for element_2D in element_1D:\n",
    "            if maximum < element_2D:\n",
    "                maximum = element_2D\n",
    "print(f\"Maximum : {maximum}\")\n",
    "    "
   ]
  },
  {
   "cell_type": "code",
   "execution_count": 16,
   "id": "e70c08c6-1022-4762-beb7-e033c1382760",
   "metadata": {},
   "outputs": [
    {
     "name": "stdout",
     "output_type": "stream",
     "text": [
      "List before removing element :\n",
      "[1, 2, 3, 2, 4, 2, 5, 2]\n"
     ]
    },
    {
     "name": "stdin",
     "output_type": "stream",
     "text": [
      "Enter the element you want to remove 2\n"
     ]
    },
    {
     "name": "stdout",
     "output_type": "stream",
     "text": [
      "List after removing element :\n",
      "[1, 3, 4, 5]\n"
     ]
    }
   ],
   "source": [
    "#Q15]\n",
    "#creating a list\n",
    "list_1 = [1,2,3,2,4,2,5,2]\n",
    "print(f\"List before removing element :\\n{list_1}\")\n",
    "remove_element = int(input(\"Enter the element you want to remove\"))\n",
    "#checking if the remove_element entered is in the list\n",
    "if remove_element in list_1:\n",
    "    #using count to find the number of \n",
    "    count_remove_element = list_1.count(remove_element)\n",
    "    for i in range(count_remove_element):\n",
    "        list_1.remove(remove_element)\n",
    "    print(f\"List after removing element :\\n{list_1}\")\n",
    "else:\n",
    "    print(\"Enter remove_element not in list\")\n",
    "    \n"
   ]
  },
  {
   "cell_type": "code",
   "execution_count": 17,
   "id": "67fc0e4c-da86-4df9-b20f-284259ad8b99",
   "metadata": {},
   "outputs": [
    {
     "name": "stdout",
     "output_type": "stream",
     "text": [
      "Table of 1 :\n",
      "1 * 1 = 1\n",
      "2 * 1 = 2\n",
      "3 * 1 = 3\n",
      "4 * 1 = 4\n",
      "5 * 1 = 5\n",
      "6 * 1 = 6\n",
      "7 * 1 = 7\n",
      "8 * 1 = 8\n",
      "9 * 1 = 9\n",
      "10 * 1 = 10\n",
      "Table of 2 :\n",
      "1 * 2 = 2\n",
      "2 * 2 = 4\n",
      "3 * 2 = 6\n",
      "4 * 2 = 8\n",
      "5 * 2 = 10\n",
      "6 * 2 = 12\n",
      "7 * 2 = 14\n",
      "8 * 2 = 16\n",
      "9 * 2 = 18\n",
      "10 * 2 = 20\n",
      "Table of 3 :\n",
      "1 * 3 = 3\n",
      "2 * 3 = 6\n",
      "3 * 3 = 9\n",
      "4 * 3 = 12\n",
      "5 * 3 = 15\n",
      "6 * 3 = 18\n",
      "7 * 3 = 21\n",
      "8 * 3 = 24\n",
      "9 * 3 = 27\n",
      "10 * 3 = 30\n",
      "Table of 4 :\n",
      "1 * 4 = 4\n",
      "2 * 4 = 8\n",
      "3 * 4 = 12\n",
      "4 * 4 = 16\n",
      "5 * 4 = 20\n",
      "6 * 4 = 24\n",
      "7 * 4 = 28\n",
      "8 * 4 = 32\n",
      "9 * 4 = 36\n",
      "10 * 4 = 40\n",
      "Table of 5 :\n",
      "1 * 5 = 5\n",
      "2 * 5 = 10\n",
      "3 * 5 = 15\n",
      "4 * 5 = 20\n",
      "5 * 5 = 25\n",
      "6 * 5 = 30\n",
      "7 * 5 = 35\n",
      "8 * 5 = 40\n",
      "9 * 5 = 45\n",
      "10 * 5 = 50\n"
     ]
    }
   ],
   "source": [
    "#Q16]\n",
    "#creating list of natural numbers from 1-5\n",
    "list_num = [1,2,3,4,5]\n",
    "#iterating num in list_num to print table of each number from 1-5\n",
    "for num in list_num:\n",
    "    print(f\"Table of {num} :\")\n",
    "    #this loop is used to calculate the multplication of each num with 1-10\n",
    "    for table in range(1,11):\n",
    "        print(f\"{table} * }{num = {table*num}\")\n"
   ]
  },
  {
   "cell_type": "code",
   "execution_count": 20,
   "id": "532125e7-efd5-4258-93eb-15f71aa173da",
   "metadata": {},
   "outputs": [
    {
     "name": "stdout",
     "output_type": "stream",
     "text": [
      "32F = 0.0C\n",
      "50F = 10.0C\n",
      "68F = 20.0C\n",
      "86F = 30.0C\n",
      "104F = 40.0C\n"
     ]
    }
   ],
   "source": [
    "#Q17]\n",
    "list_fahrenheit = [32,50,68,86,104,]\n",
    "#iterating fahrenheit to access all the tempratures\n",
    "for fahrenheit in list_fahrenheit:\n",
    "    #converting it to celsius and printing it\n",
    "    celsius = (fahrenheit - 32)*5/9\n",
    "    print(f\"{fahrenheit}F = {celsius}C\")"
   ]
  },
  {
   "cell_type": "code",
   "execution_count": 22,
   "id": "b2089bc8-9b22-47dd-8195-b4ca16b48054",
   "metadata": {},
   "outputs": [
    {
     "name": "stdout",
     "output_type": "stream",
     "text": [
      "Common Element :\n",
      "1\n",
      "2\n",
      "3\n",
      "5\n"
     ]
    }
   ],
   "source": [
    "#Q18]\n",
    "#creaing two lists\n",
    "list1 = [1,2,3,4,5,1,2]\n",
    "list2 = [5,3,1,2,1,2,1,2]\n",
    "print(\"Common Element :\")\n",
    "#iterating one list\n",
    "for element in list1:\n",
    "    #comparing elements of list1 with list2\n",
    "    if element in list2:\n",
    "        #removing the common element from list2 so that same element is not printed twice\n",
    "        element_count = list2.count(element)\n",
    "        print(f\"{element}\")\n",
    "        for i in range(element_count):\n",
    "            list2.remove(element)\n",
    "            "
   ]
  },
  {
   "cell_type": "code",
   "execution_count": 24,
   "id": "ecc6cf69-6d8f-4e63-b06c-2585f601d454",
   "metadata": {},
   "outputs": [
    {
     "name": "stdout",
     "output_type": "stream",
     "text": [
      "*\n",
      "**\n",
      "***\n",
      "****\n",
      "*****\n"
     ]
    }
   ],
   "source": [
    "#Q19]\n",
    "#using thi for loop for each row\n",
    "for i in range(1,6):\n",
    "    #using this for loop for elements in each row\n",
    "    for j in range(i):\n",
    "        print(\"*\",end=\"\")\n",
    "    print()"
   ]
  },
  {
   "cell_type": "code",
   "execution_count": 26,
   "id": "1d0673dd-1f11-407e-83ca-45f28eb1dcf6",
   "metadata": {},
   "outputs": [
    {
     "name": "stdin",
     "output_type": "stream",
     "text": [
      "Enter the number 8\n",
      "Enter the number 12\n"
     ]
    },
    {
     "name": "stdout",
     "output_type": "stream",
     "text": [
      "Greatest Common Divisor : 4\n"
     ]
    }
   ],
   "source": [
    "#Q20]\n",
    "num1, num2 = int(input('Enter the number')), int(input('Enter the number'))\n",
    "common_divisor = []\n",
    "#using for loop & min() to find the common divisors and upper limit of the loop\n",
    "for i in range(1,min([num1,num2])):\n",
    "    #checking the divisibility and appending it to common_divisor list\n",
    "    if num1%i==0 and num2%i==0:\n",
    "        common_divisor.append(i)\n",
    "#printing the max() of common_divisor list to find the GCD\n",
    "print(f\"Greatest Common Divisor : {max(common_divisor)}\")\n"
   ]
  },
  {
   "cell_type": "markdown",
   "id": "6be8a770-dcd0-49bf-9cfc-bf9e739c584e",
   "metadata": {},
   "source": [
    "Advanced Level:"
   ]
  },
  {
   "cell_type": "code",
   "execution_count": 28,
   "id": "47d02ccd-1f40-4dc9-b73d-297a7f7066f6",
   "metadata": {},
   "outputs": [
    {
     "name": "stdout",
     "output_type": "stream",
     "text": [
      "Sum : [15]\n"
     ]
    }
   ],
   "source": [
    "#Q21]\n",
    "sum_num = 0\n",
    "list_num = [1,2,3,4,5]\n",
    "x = [sum(num for num in list_num)]\n",
    "print(f\"Sum : {x}\")"
   ]
  },
  {
   "cell_type": "code",
   "execution_count": 45,
   "id": "2120354d-e922-4fb0-8af8-d6c690534135",
   "metadata": {},
   "outputs": [
    {
     "name": "stdin",
     "output_type": "stream",
     "text": [
      "Enter the number 15\n"
     ]
    },
    {
     "name": "stdout",
     "output_type": "stream",
     "text": [
      "[3, 5]\n"
     ]
    }
   ],
   "source": [
    "#Q22]\n",
    "#prime factors\n",
    "num = int(input(\"Enter the number\"))\n",
    "#using list comprehension to find the factors of a number\n",
    "prime_factors = [i for i in range(1,num+1) if num%i==0 ]\n",
    "#using this logic to find prime numbers from the factors list\n",
    "for i in prime_factors:\n",
    "    c = 0\n",
    "    for j in range(1,i+1):\n",
    "        if i%j==0:\n",
    "            c+=1\n",
    "    if c!=2:\n",
    "        prime_factors.remove(i)\n",
    "print(prime_factors)\n"
   ]
  },
  {
   "cell_type": "code",
   "execution_count": 46,
   "id": "84b32035-cb2a-4bf9-9e04-3f432f275dcf",
   "metadata": {},
   "outputs": [
    {
     "name": "stdout",
     "output_type": "stream",
     "text": [
      "Unique Elements :\n",
      "[4, 5, 7, 9]\n"
     ]
    }
   ],
   "source": [
    "#Q23]\n",
    "list_element = [1,2,1,4,2,5,1,7,9]\n",
    "#using list comprehension and .count() method to find list of unique elements\n",
    "unique_element = [num for num in list_element if list_element.count(num)==1]\n",
    "print(f\"Unique Elements :\\n{unique_element}\")\n"
   ]
  },
  {
   "cell_type": "code",
   "execution_count": 10,
   "id": "3928e4b5-32ec-4a0c-8eb0-2a635a71031c",
   "metadata": {},
   "outputs": [
    {
     "name": "stdin",
     "output_type": "stream",
     "text": [
      "Enter the number of palindromic numbers you want to find:  10\n"
     ]
    },
    {
     "name": "stdout",
     "output_type": "stream",
     "text": [
      "[1, 2, 3, 4, 5, 6, 7, 8, 9, 11]\n"
     ]
    }
   ],
   "source": [
    "#Q24]\n",
    "n = int(input(\"Enter the number of palindromic numbers you want to find: \"))\n",
    "#using for loop and if block to find palindromic numbers upto n**2. Storing only n palindromic numbers in the list using list comprehension\n",
    "l1 = [i for i in range(1, n**2) if str(i) == str(i)[::-1]][:n]\n",
    "print(l1)\n"
   ]
  },
  {
   "cell_type": "code",
   "execution_count": 20,
   "id": "8d08424f-f7cb-4e17-90ed-f20d71c32fb1",
   "metadata": {},
   "outputs": [
    {
     "name": "stdout",
     "output_type": "stream",
     "text": [
      "[1, 2, 3, 4, 5, 6, 7, 8]\n"
     ]
    }
   ],
   "source": [
    "#25\n",
    "# Nested list\n",
    "nested_list = [[1, 2, 3], [4, 5], [6, 7, 8]]\n",
    "# Flatten the nested list using list comprehension\n",
    "flattened_list = [item for sublist in nested_list for item in sublist]\n",
    "# Print the flattened list\n",
    "print(flattened_list)\n",
    "\n"
   ]
  },
  {
   "cell_type": "code",
   "execution_count": 16,
   "id": "6e2e7df4-bd88-48b8-a9f2-844959afdfb8",
   "metadata": {},
   "outputs": [
    {
     "name": "stdout",
     "output_type": "stream",
     "text": [
      "List :\n",
      "[1, 2, 3, 4, 5, 6, 7, 8, 9, 10]\n",
      "Odd sum:\n",
      "[25]\n",
      "Even sum:\n",
      "[30]\n"
     ]
    }
   ],
   "source": [
    "#Q26]\n",
    "#creating a list of numbers\n",
    "list_num = [i for i in range(1,11)]\n",
    "print(f\"List :\\n{list_num}\")\n",
    "odd_sum = [sum(i for i in list_num if i%2!=0)]\n",
    "print(f\"Odd sum:\\n{odd_sum}\")\n",
    "even_sum = [sum(i for i in list_num if i%2==0)]\n",
    "print(f\"Even sum:\\n{even_sum}\")"
   ]
  },
  {
   "cell_type": "code",
   "execution_count": 5,
   "id": "e4b985d1-a88c-4cf5-8ef8-dbde9a276968",
   "metadata": {},
   "outputs": [
    {
     "name": "stdout",
     "output_type": "stream",
     "text": [
      "Odd squares from 1-10 :\n",
      "[1, 9, 25, 49, 81]\n"
     ]
    }
   ],
   "source": [
    "#Q27]\n",
    "#using list comprehension and ** operator to get a list of squares of odd numbers from 1-10\n",
    "list_odd_square = [i**2 for i in range(1,11) if i%2!=0]\n",
    "print(f\"Odd squares from 1-10 :\\n{list_odd_square}\")\n"
   ]
  },
  {
   "cell_type": "code",
   "execution_count": 12,
   "id": "bcdf5221-7471-4f6f-ab11-e11243a555aa",
   "metadata": {},
   "outputs": [
    {
     "data": {
      "text/plain": [
       "['a', 'e', 'i', 'o', 'u']"
      ]
     },
     "execution_count": 12,
     "metadata": {},
     "output_type": "execute_result"
    }
   ],
   "source": [
    "#Q28]\n",
    "#creating two list\n",
    "\n",
    "v = 'a e i o u'.split()\n",
    "v"
   ]
  },
  {
   "cell_type": "code",
   "execution_count": 15,
   "id": "8e4ff01e-f96d-48e6-a825-e2ce5cd8e3c3",
   "metadata": {},
   "outputs": [
    {
     "name": "stdin",
     "output_type": "stream",
     "text": [
      "Enter the string hello world\n"
     ]
    },
    {
     "name": "stdout",
     "output_type": "stream",
     "text": [
      "String :\n",
      "hello world\n",
      "Extracted vowels :\n",
      "['o', 'e']\n"
     ]
    }
   ],
   "source": [
    "#Q29]\n",
    "#taking string input from user\n",
    "string = input(\"Enter the string\")\n",
    "print(f\"String :\\n{string}\")\n",
    "vowel_list = ['a', 'e', 'i', 'o', 'u']\n",
    "#using list comprehension to extract vowels. To make a unique list of vowels converting the list to set and then back to list\n",
    "list_string_vowel = list(set([char for char in string if char in vowel_list]))\n",
    "print(f\"Extracted vowels :\\n{list_string_vowel}\")\n"
   ]
  },
  {
   "cell_type": "code",
   "execution_count": 17,
   "id": "a7f023ed-1cae-4491-bd13-1f8d6e1dce51",
   "metadata": {},
   "outputs": [
    {
     "name": "stdin",
     "output_type": "stream",
     "text": [
      "Enter the string he110 worl6\n"
     ]
    },
    {
     "name": "stdout",
     "output_type": "stream",
     "text": [
      "List of String before removing all the characters except digits :\n",
      "['he110', 'worl6']\n",
      "List of String after removing all the characters except digits :\n",
      "['1', '1', '0', '6']\n"
     ]
    }
   ],
   "source": [
    "#Q30]\n",
    "#taking string input from user and converting it to list\n",
    "list_string = input(\"Enter the string\").split()\n",
    "print(f\"List of String before removing all the characters except digits :\\n{list_string}\")\n",
    "#using list comprehension and .isdigit() method to seprate digits in a list\n",
    "list_numeric = [char for word in list_string for char in word if char.isdigit()==True]\n",
    "print(f\"List of String after removing all the characters except digits :\\n{list_numeric}\")\n",
    "\n"
   ]
  },
  {
   "cell_type": "code",
   "execution_count": null,
   "id": "2607ee5b-479f-4d47-ad71-c2d238cbec8a",
   "metadata": {},
   "outputs": [],
   "source": []
  },
  {
   "cell_type": "markdown",
   "id": "0879671b-4f74-48ea-b7f8-78dd1954b5fe",
   "metadata": {},
   "source": [
    "Challenge Level:"
   ]
  },
  {
   "cell_type": "code",
   "execution_count": null,
   "id": "c27d1d0b-4bc2-47f5-8c06-3bd80f23061b",
   "metadata": {},
   "outputs": [],
   "source": [
    "#31]\n"
   ]
  },
  {
   "cell_type": "code",
   "execution_count": 102,
   "id": "e7373a5b-0e35-4c44-87ae-f5727d28a81a",
   "metadata": {},
   "outputs": [
    {
     "name": "stdin",
     "output_type": "stream",
     "text": [
      "Enter the limit:  5\n"
     ]
    },
    {
     "name": "stdout",
     "output_type": "stream",
     "text": [
      "Pythagorean Triplets:\n",
      "(21, 20, 29)\n",
      "(24, 10, 26)\n",
      "(9, 40, 41)\n",
      "(16, 30, 34)\n",
      "(15, 8, 17)\n"
     ]
    }
   ],
   "source": [
    "#Q32]\n",
    "def coprime(n, m):\n",
    "    return all(m % i != 0 or n % i != 0 for i in range(2, min(n, m) + 1))\n",
    "\n",
    "def triplets(limit):\n",
    "    return {(m**2 - n**2, 2*m*n, m**2 + n**2)\n",
    "            for m in range(2, limit + 1)\n",
    "            for n in range(1, m)\n",
    "            if coprime(m, n)}\n",
    "\n",
    "limit = int(input(\"Enter the limit: \"))\n",
    "triplet_set = triplets(limit)\n",
    "print(\"Pythagorean Triplets:\")\n",
    "for triplet in list(triplet_set)[:limit]:\n",
    "    print(triplet)\n",
    "\n",
    "            "
   ]
  },
  {
   "cell_type": "code",
   "execution_count": 1,
   "id": "53540552-68dd-4b0a-ae47-47856acbc9d0",
   "metadata": {},
   "outputs": [
    {
     "name": "stdout",
     "output_type": "stream",
     "text": [
      "[[1, 'a'], [1, 'b'], [1, 'c'], [2, 'a'], [2, 'b'], [2, 'c'], [3, 'a'], [3, 'b'], [3, 'c']]\n"
     ]
    }
   ],
   "source": [
    "#Q33]\n",
    "# Two lists to combine\n",
    "list1 = [1, 2, 3]\n",
    "list2 = ['a', 'b', 'c']\n",
    "# Generate all possible combinations using list comprehension\n",
    "combinations = [[x, y] for x in list1 for y in list2]\n",
    "# Print the combinations\n",
    "print(combinations)\n"
   ]
  },
  {
   "cell_type": "code",
   "execution_count": 77,
   "id": "d909a0a8-9c74-403d-978f-070171bfbf69",
   "metadata": {},
   "outputs": [
    {
     "name": "stdin",
     "output_type": "stream",
     "text": [
      "Enter the limit of list 6\n",
      "Enter the number 4\n",
      "Enter the number 6\n",
      "Enter the number 8\n",
      "Enter the number 2\n",
      "Enter the number 4\n",
      "Enter the number 10\n"
     ]
    },
    {
     "name": "stdout",
     "output_type": "stream",
     "text": [
      "Mean :\n",
      "5.666666666666667 \n",
      "Median :\n",
      "5.0\n",
      "Mode :\n",
      "[4]\n",
      "\n"
     ]
    }
   ],
   "source": [
    "#34]\n",
    "#creating list of numbers\n",
    "#taking len of list as limit(Enter positive limit only)\n",
    "#enter positive numbers only \n",
    "limit = int(input(\"Enter the limit of list\"))\n",
    "list_num = sorted([int(input(\"Enter the number\")) for i in range(limit)])\n",
    "len_list = len(list_num)\n",
    "#calulating mean\n",
    "mean = [sum(list_num)/len_list]\n",
    "num = len_list//2\n",
    "#calculating median\n",
    "median = [(list_num[num]+list_num[num-1])/2 if len_list%2==0 else list_num[num]]\n",
    "mode_count = max([list_num.count(x) for x in list_num])\n",
    "#calculating mode\n",
    "mode = [x for x in list_num if list_num.count(x) == mode_count and list_num.count(x) > 1]\n",
    "print(f\"Mean :\\n{mean[0]} \\n\"+f\"Median :\\n{median[0]}\\n\"+f\"Mode :\\n{list(set(mode))}\\n\")\n"
   ]
  },
  {
   "cell_type": "code",
   "execution_count": 40,
   "id": "50547652-49d0-4172-a51a-d903998f1b2a",
   "metadata": {},
   "outputs": [
    {
     "name": "stdin",
     "output_type": "stream",
     "text": [
      "Enter the limit of rows you want to generate:  5\n"
     ]
    },
    {
     "name": "stdout",
     "output_type": "stream",
     "text": [
      "Pascal's Triangle of 5 rows :\n",
      "       1       \n",
      "      1 1      \n",
      "     1 2 1     \n",
      "    1 3 3 1    \n",
      "   1 4 6 4 1   \n",
      "\n"
     ]
    }
   ],
   "source": [
    "#Q35]\n",
    "def generate_pascal_triangle(limit):\n",
    "    rows = 0\n",
    "    pascal_triangle = \"\"\n",
    "    #pre defining the first row/primary row as '1'\n",
    "    primary_row = ['1']\n",
    "    #with help of while loop generating n rows of the triangle\n",
    "    while rows != limit:\n",
    "        #converting it to string and aligning it properly\n",
    "        pascal_triangle += \" \".join(primary_row).center(limit*3) + \"\\n\"  # Adjust spacing for proper alignment\n",
    "        #calculating the next rows using list comprehension\n",
    "        secondary_row = ['1' if row == 0 or row == len(primary_row) else str(int(primary_row[row - 1]) + int(primary_row[row])) for row in range(len(primary_row) + 1)]\n",
    "        #reassigning it to primary row\n",
    "        primary_row = secondary_row\n",
    "        #incrementing rows so that while loop can be terminated\n",
    "        rows += 1\n",
    "    return pascal_triangle\n",
    "#taking input of number of rows as limit\n",
    "limit = int(input(\"Enter the limit of rows you want to generate: \"))\n",
    "#checking validity of limit and generating pascals traingle\n",
    "if limit > 0:\n",
    "    print(f\"Pascal's Triangle of {limit} rows :\\n{generate_pascal_triangle(limit)}\")\n",
    "else:\n",
    "    print(\"Enter a valid limit\")\n"
   ]
  },
  {
   "cell_type": "code",
   "execution_count": 21,
   "id": "600dcf90-d840-4067-8806-a612341555c0",
   "metadata": {},
   "outputs": [
    {
     "name": "stdout",
     "output_type": "stream",
     "text": [
      "[153]\n"
     ]
    }
   ],
   "source": [
    "#Q36]\n",
    "#using lambda function to calculate factorial\n",
    "fact = lambda x: 1 if x==0 else x*fact(x-1)\n",
    "#using list comprehension, sum() and fact() to calculate the sum of factorial of 1-5\n",
    "list_fact = [sum(fact(i) for i in range(1,6))]\n",
    "print(list_fact)\n",
    "\n"
   ]
  },
  {
   "cell_type": "code",
   "execution_count": 23,
   "id": "64cf8068-7de5-4544-a180-0fe7ed11c919",
   "metadata": {},
   "outputs": [
    {
     "name": "stdin",
     "output_type": "stream",
     "text": [
      "Enter the string hello world!\n"
     ]
    },
    {
     "name": "stdout",
     "output_type": "stream",
     "text": [
      "List of string :\n",
      "['hello', 'world!']\n",
      "Longest word :\n",
      "['world!']\n"
     ]
    }
   ],
   "source": [
    "#Q37]\n",
    "string_list = input(\"Enter the string\").split()\n",
    "print(f\"List of string :\\n{string_list}\")\n",
    "#using max() function and list commprehension to find the longest word in the given string\n",
    "longest_word = [max(word for word in string_list)]\n",
    "print(f\"Longest word :\\n{longest_word}\")\n"
   ]
  },
  {
   "cell_type": "code",
   "execution_count": 32,
   "id": "18678cbf-4251-4eab-9222-23b6e468973a",
   "metadata": {},
   "outputs": [
    {
     "name": "stdin",
     "output_type": "stream",
     "text": [
      "Enter the string heeeeeyyyy how areeeeee youuuuuu doiiiiing\n"
     ]
    },
    {
     "name": "stdout",
     "output_type": "stream",
     "text": [
      "String :\n",
      "['heeeeeyyyy', 'how', 'areeeeee', 'youuuuuu', 'doiiiiing']\n"
     ]
    },
    {
     "data": {
      "text/plain": [
       "['heeeeeyyyy', 'areeeeee', 'youuuuuu', 'doiiiiing']"
      ]
     },
     "execution_count": 32,
     "metadata": {},
     "output_type": "execute_result"
    }
   ],
   "source": [
    "#Q38]\n",
    "#taking string input from user\n",
    "string = input(\"Enter the string\").split()\n",
    "print(f\"List of string :\\n{string}\")\n",
    "vowel_list = ['a', 'e', 'i', 'o', 'u']\n",
    "#using list comprehension to extract words with more than 3 vowels. To make a unique list of vowels converting the list to set and then back to list\n",
    "list_string_vowel = [ word for word in string if sum(word.count(vowel) for vowel in vowel_list if vowel in word)>3]\n",
    "print(f\"List of words with more than 3 vowels in it :\\n{list_string_vowel}\")\n"
   ]
  },
  {
   "cell_type": "code",
   "execution_count": 4,
   "id": "ab478e11-20e2-4814-848d-404cd1793012",
   "metadata": {},
   "outputs": [
    {
     "name": "stdout",
     "output_type": "stream",
     "text": [
      "Sum of digits of numbers from 1 to 1000 using list :\n",
      "500500\n"
     ]
    }
   ],
   "source": [
    "#Q39]\n",
    "#Calcluating sum of numbers form 1-1000 using list comprehension and built in sum() function\n",
    "sum_int_1000 = sum([i for i in range(1,1001)])\n",
    "print(f\"Sum of digits of numbers from 1 to 1000 using list :\\n{sum_int_1000}\")\n"
   ]
  },
  {
   "cell_type": "code",
   "execution_count": 20,
   "id": "4e3bd2c7-97a6-4d69-bb11-084f88f03d6d",
   "metadata": {},
   "outputs": [
    {
     "name": "stdin",
     "output_type": "stream",
     "text": [
      "Enter the number of palindromic numbers you want to find:  15\n"
     ]
    },
    {
     "name": "stdout",
     "output_type": "stream",
     "text": [
      "[2, 3, 5, 7, 11, 101, 131, 151, 181, 191, 313, 353, 373, 383, 727]\n"
     ]
    }
   ],
   "source": [
    "#Q40]\n",
    "#creating prime function to calculate prime numbers \n",
    "def prime(num = int):\n",
    "    counter = 0\n",
    "    for i in range(1,num+1):\n",
    "        if num%i==0:\n",
    "            counter+=1\n",
    "    if counter==2:\n",
    "        return True\n",
    "    else:\n",
    "        return False\n",
    "#taking the limit from user\n",
    "n = int(input(\"Enter the number of palindromic numbers you want to find: \"))\n",
    "#using for loop,user defined prime() function and if block to find palindromic numbers upto n**2. Storing only n palindromic numbers in the list using list comprehension\n",
    "l1 = [i for i in range(1, n**3) if str(i) == str(i)[::-1] and prime(i)==True][:n]\n",
    "print(l1)"
   ]
  },
  {
   "cell_type": "code",
   "execution_count": null,
   "id": "4154b01e-2a28-4a73-8417-8a668e8815b5",
   "metadata": {},
   "outputs": [],
   "source": []
  }
 ],
 "metadata": {
  "kernelspec": {
   "display_name": "Python 3 (ipykernel)",
   "language": "python",
   "name": "python3"
  },
  "language_info": {
   "codemirror_mode": {
    "name": "ipython",
    "version": 3
   },
   "file_extension": ".py",
   "mimetype": "text/x-python",
   "name": "python",
   "nbconvert_exporter": "python",
   "pygments_lexer": "ipython3",
   "version": "3.10.8"
  }
 },
 "nbformat": 4,
 "nbformat_minor": 5
}
